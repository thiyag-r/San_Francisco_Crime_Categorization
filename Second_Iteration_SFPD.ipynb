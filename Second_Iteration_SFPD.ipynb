{
 "cells": [
  {
   "cell_type": "markdown",
   "metadata": {},
   "source": [
    "# Importing packages"
   ]
  },
  {
   "cell_type": "code",
   "execution_count": 1,
   "metadata": {},
   "outputs": [],
   "source": [
    "import pandas as pd\n",
    "import numpy as np\n",
    "import matplotlib.pyplot as plt\n",
    "from mpl_toolkits.basemap import Basemap\n",
    "import time\n",
    "from sklearn.impute import SimpleImputer\n",
    "from sklearn.preprocessing import LabelEncoder\n",
    "from sklearn import metrics\n",
    "from sklearn.ensemble import RandomForestClassifier\n",
    "from sklearn.neighbors import KNeighborsClassifier\n",
    "from sklearn.neighbors import KNeighborsClassifier"
   ]
  },
  {
   "cell_type": "markdown",
   "metadata": {},
   "source": [
    "# Loading the Dataset"
   ]
  },
  {
   "cell_type": "code",
   "execution_count": 3,
   "metadata": {
    "collapsed": true
   },
   "outputs": [
    {
     "name": "stdout",
     "output_type": "stream",
     "text": [
      "(878049, 31)\n"
     ]
    }
   ],
   "source": [
    "train_pref = pd.read_csv(\"C:/Users/Surface/Documents/BDA_106/Data/Train_PreppedData_SummarByAddressNCategory.csv\", parse_dates=['Dates'])"
   ]
  },
  {
   "cell_type": "markdown",
   "metadata": {},
   "source": [
    "# Data Cleaning & Exploring"
   ]
  },
  {
   "cell_type": "code",
   "execution_count": 4,
   "metadata": {},
   "outputs": [],
   "source": [
    "# Dropping the duplicate values\n",
    "train_pref.drop_duplicates(inplace=True)\n",
    "# Replacing the wrong Geo_Coordinated\n",
    "train_pref.replace({'X':-120.5,'Y':90.0},np.NaN,inplace=True)\n",
    "imp_mean = SimpleImputer(strategy='mean')\n",
    "\n",
    "for district in train_pref['PdDistrict'].unique():\n",
    "    train_pref.loc[train_pref['PdDistrict'] == district,['X','Y']] = imp_mean.fit_transform(train_pref.loc[train_pref['PdDistrict'] == district,['X','Y']])"
   ]
  },
  {
   "cell_type": "code",
   "execution_count": 6,
   "metadata": {},
   "outputs": [],
   "source": [
    "# Converting Categorical value into Numerical value\n",
    "le3 = LabelEncoder()\n",
    "train_pref['PdDistrict'] = le3.fit_transform(train_pref['PdDistrict'])\n",
    "le4 = LabelEncoder()\n",
    "y_pref = le4.fit_transform(train_pref.pop('Category'))"
   ]
  },
  {
   "cell_type": "code",
   "execution_count": 5,
   "metadata": {},
   "outputs": [
    {
     "data": {
      "text/plain": [
       "(875726, 27)"
      ]
     },
     "execution_count": 5,
     "metadata": {},
     "output_type": "execute_result"
    }
   ],
   "source": [
    "train_pref['Day_of_Week'] = train_pref['Dates'].dt.weekday\n",
    "#Dropping the columns\n",
    "train_pref.drop(columns=['Descript','Resolution','Address','Dates','DayOfWeek'], inplace=True)\n",
    "train_pref.shape\n",
    "# Splitting the Dataset into train and test\n",
    "trai_X, test_X, trai_y, test_y = train_test_split(train_pref, y_pref)"
   ]
  },
  {
   "cell_type": "markdown",
   "metadata": {},
   "source": [
    "# Modelling"
   ]
  },
  {
   "cell_type": "code",
   "execution_count": 7,
   "metadata": {},
   "outputs": [
    {
     "name": "stdout",
     "output_type": "stream",
     "text": [
      "Total seconds: 5.0479371547698975 and loss 3.5474153091697365\n"
     ]
    }
   ],
   "source": [
    "# Building Naive Bayes Classifier\n",
    "start_time = time.time()\n",
    "GNB = GaussianNB()\n",
    "GNB.fit(trai_X, trai_y)\n",
    "predicted_pref = np.array(GNB.predict_proba(test_X))\n",
    "end_time = time.time()\n",
    "secs = (end_time - start_time)\n",
    "loss_function = log_loss(test_y,predicted_pref)\n",
    "print(\"Total seconds: {} and loss {}\".format(secs, loss_function))"
   ]
  },
  {
   "cell_type": "code",
   "execution_count": 10,
   "metadata": {},
   "outputs": [
    {
     "name": "stdout",
     "output_type": "stream",
     "text": [
      "Total seconds: 341.0735692977905 and loss 0.15475482534447066\n"
     ]
    }
   ],
   "source": [
    "# Building Random Forest Classifier\n",
    "start_time = time.time()\n",
    "rfc = RandomForestClassifier(n_estimators=100)\n",
    "rfc.fit(trai_X, trai_y)\n",
    "predicted_pref_rfc = np.array(rfc.predict_proba(test_X))\n",
    "end_time = time.time()\n",
    "secs = (end_time - start_time)\n",
    "loss_function = log_loss(test_y,predicted_pref_rfc)\n",
    "print(\"Total seconds: {} and loss {}\".format(secs, loss_function))"
   ]
  },
  {
   "cell_type": "code",
   "execution_count": 21,
   "metadata": {},
   "outputs": [
    {
     "name": "stdout",
     "output_type": "stream",
     "text": [
      "Total seconds: 44.79580330848694 and loss 3.1684245563990228\n"
     ]
    }
   ],
   "source": [
    "# Building K-Nearest Neighbor\n",
    "start_time = time.time()\n",
    "knn = KNeighborsClassifier(n_neighbors=7)\n",
    "knn.fit(trai_X, trai_y)\n",
    "predicted_pref_knn = np.array(knn.predict_proba(test_X))\n",
    "end_time = time.time()\n",
    "secs = (end_time - start_time)\n",
    "loss_function = log_loss(test_y,predicted_pref_knn)\n",
    "print(\"Total seconds: {} and loss {}\".format(secs, loss_function))"
   ]
  },
  {
   "cell_type": "markdown",
   "metadata": {},
   "source": [
    "# Evaluation"
   ]
  },
  {
   "cell_type": "code",
   "execution_count": 9,
   "metadata": {},
   "outputs": [
    {
     "name": "stdout",
     "output_type": "stream",
     "text": [
      "Accuracy: 0.42093892167430985\n"
     ]
    }
   ],
   "source": [
    "# Evaluation for Naive Bayes Model\n",
    "y_pref_pred = GNB.predict(test_X)\n",
    "print(\"Accuracy:\",metrics.accuracy_score(test_y, y_pref_pred))"
   ]
  },
  {
   "cell_type": "code",
   "execution_count": 11,
   "metadata": {},
   "outputs": [
    {
     "name": "stdout",
     "output_type": "stream",
     "text": [
      "Accuracy: 0.982834852831016\n"
     ]
    }
   ],
   "source": [
    "#Evaluation for Random Forest Classifier\n",
    "y_pref_pred = rfc.predict(test_X)\n",
    "print(\"Accuracy:\",metrics.accuracy_score(test_y, y_pref_pred))"
   ]
  },
  {
   "cell_type": "code",
   "execution_count": 20,
   "metadata": {},
   "outputs": [
    {
     "name": "stdout",
     "output_type": "stream",
     "text": [
      "Accuracy: 0.6480779420093911\n"
     ]
    }
   ],
   "source": [
    "#Evaluation for K-nearest Neighbors\n",
    "y_pref_pred = knn.predict(test_X)\n",
    "print(\"Accuracy:\",metrics.accuracy_score(test_y, y_pref_pred))"
   ]
  },
  {
   "cell_type": "code",
   "execution_count": null,
   "metadata": {},
   "outputs": [],
   "source": []
  }
 ],
 "metadata": {
  "kernelspec": {
   "display_name": "Python 3",
   "language": "python",
   "name": "python3"
  },
  "language_info": {
   "codemirror_mode": {
    "name": "ipython",
    "version": 3
   },
   "file_extension": ".py",
   "mimetype": "text/x-python",
   "name": "python",
   "nbconvert_exporter": "python",
   "pygments_lexer": "ipython3",
   "version": "3.7.3"
  }
 },
 "nbformat": 4,
 "nbformat_minor": 2
}
